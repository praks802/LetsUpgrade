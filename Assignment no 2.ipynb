{
 "cells": [
  {
   "cell_type": "markdown",
   "metadata": {},
   "source": [
    "Answer no 1"
   ]
  },
  {
   "cell_type": "code",
   "execution_count": 12,
   "metadata": {},
   "outputs": [
    {
     "name": "stdout",
     "output_type": "stream",
     "text": [
      "Enter Number 45\n",
      "Enter Number 75\n",
      "Enter Number 65\n",
      "Enter Number 24\n",
      "Enter Number 28\n",
      "Enter Number 19\n",
      "Enter Number 18\n",
      "Enter Number 32\n",
      "Enter Number 78\n",
      "Enter Number 65\n"
     ]
    }
   ],
   "source": [
    "a=[]\n",
    "for i in range(10):\n",
    "    num=int(input('Enter Number '))\n",
    "    if num%2==0:\n",
    "        a.append(num)"
   ]
  },
  {
   "cell_type": "code",
   "execution_count": 13,
   "metadata": {},
   "outputs": [
    {
     "data": {
      "text/plain": [
       "[24, 28, 18, 32, 78]"
      ]
     },
     "execution_count": 13,
     "metadata": {},
     "output_type": "execute_result"
    }
   ],
   "source": [
    "a"
   ]
  },
  {
   "cell_type": "markdown",
   "metadata": {},
   "source": [
    "Answer no 2"
   ]
  },
  {
   "cell_type": "code",
   "execution_count": 14,
   "metadata": {},
   "outputs": [
    {
     "data": {
      "text/plain": [
       "[1, 4, 9, 16, 25]"
      ]
     },
     "execution_count": 14,
     "metadata": {},
     "output_type": "execute_result"
    }
   ],
   "source": [
    "a=[1,2,3,4,5]\n",
    "[i**2 for i in a]"
   ]
  },
  {
   "cell_type": "code",
   "execution_count": 17,
   "metadata": {},
   "outputs": [
    {
     "data": {
      "text/plain": [
       "[14, 88]"
      ]
     },
     "execution_count": 17,
     "metadata": {},
     "output_type": "execute_result"
    }
   ],
   "source": [
    "b=[14,45,75,85,65,88]\n",
    "[i for i in b if i%2==0]"
   ]
  },
  {
   "cell_type": "markdown",
   "metadata": {},
   "source": [
    "Answer no 3"
   ]
  },
  {
   "cell_type": "code",
   "execution_count": 28,
   "metadata": {},
   "outputs": [
    {
     "name": "stdout",
     "output_type": "stream",
     "text": [
      "Input a number 5\n",
      "{1: 1, 2: 4, 3: 9, 4: 16, 5: 25}\n"
     ]
    }
   ],
   "source": [
    "n=int(input(\"Input a number \"))\n",
    "d = dict()\n",
    "\n",
    "for x in range(1,n+1):\n",
    "    d[x]=x*x\n",
    "\n",
    "print(d) \n"
   ]
  },
  {
   "cell_type": "markdown",
   "metadata": {},
   "source": [
    "Answer no 4"
   ]
  },
  {
   "cell_type": "code",
   "execution_count": 29,
   "metadata": {},
   "outputs": [
    {
     "name": "stdout",
     "output_type": "stream",
     "text": [
      "Type in UP/DOWN/LEFT/RIGHT #step number: 4\n",
      "Type in UP/DOWN/LEFT/RIGHT #step number: 5\n",
      "Type in UP/DOWN/LEFT/RIGHT #step number: 7\n",
      "Type in UP/DOWN/LEFT/RIGHT #step number: 1\n",
      "Type in UP/DOWN/LEFT/RIGHT #step number: 8\n",
      "Type in UP/DOWN/LEFT/RIGHT #step number: 6\n",
      "Type in UP/DOWN/LEFT/RIGHT #step number: 8\n",
      "Type in UP/DOWN/LEFT/RIGHT #step number: 2\n",
      "Type in UP/DOWN/LEFT/RIGHT #step number: 7\n",
      "Type in UP/DOWN/LEFT/RIGHT #step number: 8\n",
      "Type in UP/DOWN/LEFT/RIGHT #step number: 6\n",
      "Type in UP/DOWN/LEFT/RIGHT #step number: 2\n",
      "Type in UP/DOWN/LEFT/RIGHT #step number: 1\n",
      "Type in UP/DOWN/LEFT/RIGHT #step number: 7\n",
      "Type in UP/DOWN/LEFT/RIGHT #step number: 2\n",
      "Type in UP/DOWN/LEFT/RIGHT #step number: 8\n",
      "Type in UP/DOWN/LEFT/RIGHT #step number: 6\n",
      "Type in UP/DOWN/LEFT/RIGHT #step number: 7\n",
      "Type in UP/DOWN/LEFT/RIGHT #step number: 8\n",
      "Type in UP/DOWN/LEFT/RIGHT #step number: 7\n",
      "Type in UP/DOWN/LEFT/RIGHT #step number: 6\n",
      "Type in UP/DOWN/LEFT/RIGHT #step number: 2\n",
      "Type in UP/DOWN/LEFT/RIGHT #step number: 8\n",
      "Type in UP/DOWN/LEFT/RIGHT #step number: 7\n",
      "Type in UP/DOWN/LEFT/RIGHT #step number: 5\n",
      "Type in UP/DOWN/LEFT/RIGHT #step number: 1\n",
      "Type in UP/DOWN/LEFT/RIGHT #step number: 3\n",
      "Type in UP/DOWN/LEFT/RIGHT #step number: 6\n",
      "Type in UP/DOWN/LEFT/RIGHT #step number: 7\n",
      "Type in UP/DOWN/LEFT/RIGHT #step number: 5\n",
      "Type in UP/DOWN/LEFT/RIGHT #step number: 7\n",
      "Type in UP/DOWN/LEFT/RIGHT #step number: 7\n",
      "Type in UP/DOWN/LEFT/RIGHT #step number: 7\n",
      "Type in UP/DOWN/LEFT/RIGHT #step number: 8\n",
      "Type in UP/DOWN/LEFT/RIGHT #step number: \n",
      "Distance: 0.0\n"
     ]
    }
   ],
   "source": [
    "import math\n",
    "\n",
    "x, y = 0, 0\n",
    "\n",
    "while True:\n",
    "    step = input(\"Type in UP/DOWN/LEFT/RIGHT #step number: \")\n",
    "\n",
    "    if step == \"\":\n",
    "        break\n",
    "\n",
    "    else:\n",
    "        step = step.split(\" \")\n",
    "\n",
    "        if step[0] == \"UP\":\n",
    "            y = y + int(step[1])\n",
    "        elif step[0] == \"DOWN\":\n",
    "            y = y - int(step[1])\n",
    "        elif step[0] == \"LEFT\":\n",
    "            x = x - int(step[1])\n",
    "        elif step[0] == \"RIGHT\":\n",
    "            x = x + int(step[1])\n",
    "\n",
    "c = math.sqrt(x**2 + y**2)\n",
    "\n",
    "print(\"Distance:\", c)"
   ]
  },
  {
   "cell_type": "code",
   "execution_count": null,
   "metadata": {},
   "outputs": [],
   "source": []
  }
 ],
 "metadata": {
  "kernelspec": {
   "display_name": "Python 3",
   "language": "python",
   "name": "python3"
  },
  "language_info": {
   "codemirror_mode": {
    "name": "ipython",
    "version": 3
   },
   "file_extension": ".py",
   "mimetype": "text/x-python",
   "name": "python",
   "nbconvert_exporter": "python",
   "pygments_lexer": "ipython3",
   "version": "3.7.3"
  }
 },
 "nbformat": 4,
 "nbformat_minor": 2
}
